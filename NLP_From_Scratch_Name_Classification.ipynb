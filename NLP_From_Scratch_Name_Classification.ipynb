{
 "cells": [
  {
   "cell_type": "markdown",
   "id": "1bdb4033-a740-4965-903e-e39edc719c45",
   "metadata": {},
   "source": [
    "# NLP From Scratch : Classifying Names With a Character-Level RNN\n",
    "\n",
    "Last Update : 2022/11/15\n",
    "\n",
    "Author : [jhbale11](https://github.com/jhbale11)\n",
    "\n",
    "--------------------------------------------------\n",
    "\n",
    "A character-level RNN reads words as a series of characters - outputting a prediction and “hidden state” at each step, feeding its previous hidden state into each next step. We take the final prediction to be the output, i.e. which class the word belongs to.\n",
    "\n",
    "Specifically, we’ll train on a few thousand surnames from 18 languages of origin, and predict which language a name is from based on the spelling:\n",
    "\n",
    "```bash\n",
    "$ predict(Hinton)\n",
    "(-0.47) Scottish\n",
    "(-1.52) English\n",
    "(-3.57) Irish\n",
    "\n",
    "$ predict(Schmidhuber)\n",
    "(-0.19) German\n",
    "(-2.48) Czech\n",
    "(-2.68) Dutch\n",
    "```\n",
    "---------------------------------------\n",
    "\n",
    "## Modeling Procedure\n",
    "\n",
    "### 1. [Preparing the Data]()\n",
    "### 2. [Tuning names into tensors]()\n",
    "### 3. [Create the network]()\n",
    "### 4. [Train the Model]()\n",
    "### 5. [Evaluate the Model]()\n",
    "### 6. [Running on User Inputs]()"
   ]
  },
  {
   "cell_type": "markdown",
   "id": "f1fee1b8-2c2e-4ee9-a4d7-a165653486e3",
   "metadata": {},
   "source": [
    "-----------\n",
    "## Preparing the Data"
   ]
  },
  {
   "cell_type": "code",
   "execution_count": 9,
   "id": "26f539ed-797b-4a44-89c3-b2e69ee6de6c",
   "metadata": {},
   "outputs": [
    {
     "name": "stdout",
     "output_type": "stream",
     "text": [
      "['data/names/English.txt', 'data/names/Portuguese.txt', 'data/names/Czech.txt', 'data/names/Irish.txt', 'data/names/Greek.txt', 'data/names/Japanese.txt', 'data/names/Italian.txt', 'data/names/Polish.txt', 'data/names/French.txt', 'data/names/Korean.txt', 'data/names/Scottish.txt', 'data/names/German.txt', 'data/names/Arabic.txt', 'data/names/Spanish.txt', 'data/names/Russian.txt', 'data/names/Dutch.txt', 'data/names/Vietnamese.txt', 'data/names/Chinese.txt']\n",
      "Slusarski\n"
     ]
    }
   ],
   "source": [
    "from __future__ import unicode_literals, print_function, division\n",
    "from io import open\n",
    "import glob\n",
    "import os\n",
    "\n",
    "def findFiles(path): return glob.glob(path)\n",
    "\n",
    "print(findFiles('data/names/*.txt'))\n",
    "\n",
    "import unicodedata\n",
    "import string\n",
    "\n",
    "all_letters = string.ascii_letters + \" .,;'\"\n",
    "n_letters = len(all_letters)\n",
    "\n",
    "# Turn a Unicode string to plain ASCII, thanks to https://stackoverflow.com/a/518232/2809427\n",
    "def unicodeToAscii(s):\n",
    "    return ''.join(\n",
    "        c for c in unicodedata.normalize('NFD', s)\n",
    "        if unicodedata.category(c) != 'Mn'\n",
    "        and c in all_letters\n",
    "    )\n",
    "\n",
    "print(unicodeToAscii('Ślusàrski'))\n",
    "\n",
    "# Build the category_lines dictionary, a list of names per language\n",
    "category_lines = {}\n",
    "all_categories = []\n",
    "\n",
    "# Read a file and split into lines\n",
    "def readLines(filename):\n",
    "    lines = open(filename, encoding='utf-8').read().strip().split('\\n')\n",
    "    return [unicodeToAscii(line) for line in lines]\n",
    "\n",
    "for filename in findFiles('data/names/*.txt'):\n",
    "    category = os.path.splitext(os.path.basename(filename))[0]\n",
    "    all_categories.append(category)\n",
    "    lines = readLines(filename)\n",
    "    category_lines[category] = lines\n",
    "\n",
    "n_categories = len(all_categories)"
   ]
  },
  {
   "cell_type": "markdown",
   "id": "113a631f-3cd4-4371-a19e-eae169ca872f",
   "metadata": {},
   "source": [
    "-------------------------\n",
    "## Turning Names Into Tensors"
   ]
  },
  {
   "cell_type": "code",
   "execution_count": 10,
   "id": "0f317915-81aa-487d-8c66-73b9aa402dc8",
   "metadata": {},
   "outputs": [
    {
     "name": "stdout",
     "output_type": "stream",
     "text": [
      "tensor([[0., 0., 0., 0., 0., 0., 0., 0., 0., 0., 0., 0., 0., 0., 0., 0., 0., 0.,\n",
      "         0., 0., 0., 0., 0., 0., 0., 0., 0., 0., 0., 0., 0., 0., 0., 0., 0., 1.,\n",
      "         0., 0., 0., 0., 0., 0., 0., 0., 0., 0., 0., 0., 0., 0., 0., 0., 0., 0.,\n",
      "         0., 0., 0.]])\n",
      "torch.Size([5, 1, 57])\n"
     ]
    }
   ],
   "source": [
    "import torch\n",
    "\n",
    "# Find letter index from all_letters, e.g. \"a\" = 0\n",
    "def letterToIndex(letter):\n",
    "    return all_letters.find(letter)\n",
    "\n",
    "# Just for demonstration, turn a letter into a <1 x n_letters> Tensor\n",
    "def letterToTensor(letter):\n",
    "    tensor = torch.zeros(1, n_letters)\n",
    "    tensor[0][letterToIndex(letter)] = 1\n",
    "    return tensor\n",
    "\n",
    "# Turn a line into a <line_length x 1 x n_letters>,\n",
    "# or an array of one-hot letter vectors\n",
    "def lineToTensor(line):\n",
    "    tensor = torch.zeros(len(line), 1, n_letters)\n",
    "    for li, letter in enumerate(line):\n",
    "        tensor[li][0][letterToIndex(letter)] = 1\n",
    "    return tensor\n",
    "\n",
    "print(letterToTensor('J'))\n",
    "\n",
    "print(lineToTensor('Jones').size())"
   ]
  },
  {
   "cell_type": "markdown",
   "id": "27f18edf-991d-4b7f-90f6-3aae22fdd005",
   "metadata": {},
   "source": [
    "------------------\n",
    "## Create the Network\n",
    "\n",
    "![](https://i.imgur.com/Z2xbySO.png)"
   ]
  },
  {
   "cell_type": "code",
   "execution_count": 11,
   "id": "720e1918-d0e2-4066-a113-2a1a59bf02f2",
   "metadata": {},
   "outputs": [],
   "source": [
    "import torch.nn as nn\n",
    "\n",
    "class RNN(nn.Module):\n",
    "    def __init__(self, input_size, hidden_size, output_size):\n",
    "        super(RNN, self).__init__()\n",
    "\n",
    "        self.hidden_size = hidden_size\n",
    "\n",
    "        self.i2h = nn.Linear(input_size + hidden_size, hidden_size)\n",
    "        self.i2o = nn.Linear(input_size + hidden_size, output_size)\n",
    "        self.softmax = nn.LogSoftmax(dim=1)\n",
    "\n",
    "    def forward(self, input, hidden):\n",
    "        combined = torch.cat((input, hidden), 1)\n",
    "        hidden = self.i2h(combined)\n",
    "        output = self.i2o(combined)\n",
    "        output = self.softmax(output)\n",
    "        return output, hidden\n",
    "\n",
    "    def initHidden(self):\n",
    "        return torch.zeros(1, self.hidden_size)"
   ]
  },
  {
   "cell_type": "code",
   "execution_count": 12,
   "id": "c530b69d-9aa7-4e4a-b3f0-0e7ef5361f9f",
   "metadata": {},
   "outputs": [],
   "source": [
    "n_hidden = 128\n",
    "model = RNN(n_letters, n_hidden, n_categories)"
   ]
  },
  {
   "cell_type": "code",
   "execution_count": 13,
   "id": "ddac6499-f82c-4a2c-98f3-9d6518412c13",
   "metadata": {},
   "outputs": [
    {
     "name": "stdout",
     "output_type": "stream",
     "text": [
      "tensor([[-2.8821, -2.8414, -2.9592, -2.9749, -2.9481, -2.9608, -2.8815, -2.8146,\n",
      "         -2.8859, -2.9039, -2.8282, -2.8197, -2.8538, -2.8531, -2.9028, -2.8784,\n",
      "         -2.9210, -2.9391]], grad_fn=<LogSoftmaxBackward0>)\n"
     ]
    }
   ],
   "source": [
    "input = lineToTensor('Albert')\n",
    "hidden = torch.zeros(1, n_hidden)\n",
    "\n",
    "output, next_hidden = model(input[0], hidden)\n",
    "print(output)"
   ]
  },
  {
   "cell_type": "code",
   "execution_count": 14,
   "id": "fb0e0d78-2531-4b4a-a1e0-563163027a37",
   "metadata": {},
   "outputs": [
    {
     "name": "stdout",
     "output_type": "stream",
     "text": [
      "('Polish', 7)\n"
     ]
    }
   ],
   "source": [
    "def categoryFromOutput(output):\n",
    "    top_n, top_i = output.topk(1)\n",
    "    category_i = top_i[0].item()\n",
    "    return all_categories[category_i], category_i\n",
    "\n",
    "print(categoryFromOutput(output))"
   ]
  },
  {
   "cell_type": "code",
   "execution_count": 15,
   "id": "ef45fee5-b35e-4ec2-af0b-568b88dc4f5d",
   "metadata": {},
   "outputs": [
    {
     "name": "stdout",
     "output_type": "stream",
     "text": [
      "category = French / line = Chevrolet\n",
      "category = Italian / line = Barbieri\n",
      "category = Arabic / line = Abboud\n",
      "category = Dutch / line = Sanna\n",
      "category = French / line = Renaud\n",
      "category = Dutch / line = Snaijer\n",
      "category = Scottish / line = Millar\n",
      "category = German / line = Gehring\n",
      "category = Russian / line = Durkin\n",
      "category = English / line = Dent\n"
     ]
    }
   ],
   "source": [
    "import random\n",
    "\n",
    "def randomChoice(l):\n",
    "    return l[random.randint(0, len(l) - 1)]\n",
    "\n",
    "def randomTrainingExample():\n",
    "    category = randomChoice(all_categories)\n",
    "    line = randomChoice(category_lines[category])\n",
    "    category_tensor = torch.tensor([all_categories.index(category)], dtype=torch.long)\n",
    "    line_tensor = lineToTensor(line)\n",
    "    return category, line, category_tensor, line_tensor\n",
    "\n",
    "for i in range(10):\n",
    "    category, line, category_tensor, line_tensor = randomTrainingExample()\n",
    "    print('category =', category, '/ line =', line)"
   ]
  },
  {
   "cell_type": "markdown",
   "id": "d4f7d06c-8896-490a-b92b-aab893ba4969",
   "metadata": {},
   "source": [
    "---------------------------\n",
    "## Train the Model"
   ]
  },
  {
   "cell_type": "code",
   "execution_count": 16,
   "id": "ab20af6a-8dc4-4ccf-949f-2bc183b9cc3b",
   "metadata": {},
   "outputs": [],
   "source": [
    "criterion = nn.NLLLoss()"
   ]
  },
  {
   "cell_type": "code",
   "execution_count": 17,
   "id": "097b00df-d77b-4f42-a7a5-343a4007e04c",
   "metadata": {},
   "outputs": [],
   "source": [
    "learning_rate = 0.005 # If you set this too high, it might explode. If too low, it might not learn\n",
    "\n",
    "def train(category_tensor, line_tensor):\n",
    "    hidden = model.initHidden()\n",
    "\n",
    "    model.zero_grad()\n",
    "\n",
    "    for i in range(line_tensor.size()[0]):\n",
    "        output, hidden = model(line_tensor[i], hidden)\n",
    "\n",
    "    loss = criterion(output, category_tensor)\n",
    "    loss.backward()\n",
    "\n",
    "    # Add parameters' gradients to their values, multiplied by learning rate\n",
    "    for p in model.parameters():\n",
    "        p.data.add_(p.grad.data, alpha=-learning_rate)\n",
    "\n",
    "    return output, loss.item()"
   ]
  },
  {
   "cell_type": "code",
   "execution_count": 18,
   "id": "75b34128-2dc0-486d-832e-012e2873c41a",
   "metadata": {},
   "outputs": [
    {
     "name": "stdout",
     "output_type": "stream",
     "text": [
      "5000 5% (0m 18s) 2.4575 Monti / Korean ✗ (Italian)\n",
      "10000 10% (0m 36s) 2.1173 Biganska / Japanese ✗ (Czech)\n",
      "15000 15% (0m 55s) 2.3463 Prince / French ✗ (English)\n",
      "20000 20% (1m 13s) 2.0185 Parnaby / English ✓\n",
      "25000 25% (1m 32s) 0.6532 Viselov / Russian ✓\n",
      "30000 30% (1m 51s) 2.4937 Vivas / Greek ✗ (Spanish)\n",
      "35000 35% (2m 9s) 0.5839 Yoon / Korean ✓\n",
      "40000 40% (2m 28s) 1.3915 Kourempes / Dutch ✗ (Greek)\n",
      "45000 45% (2m 46s) 2.9435 Broz / Spanish ✗ (Polish)\n",
      "50000 50% (3m 5s) 1.8380 Spijker / Scottish ✗ (Dutch)\n",
      "55000 55% (3m 24s) 0.5272 Fadyaev / Russian ✓\n",
      "60000 60% (3m 42s) 0.6276 Leclair / French ✓\n",
      "65000 65% (3m 59s) 1.5797 Mateus / Arabic ✗ (Portuguese)\n",
      "70000 70% (4m 17s) 1.9772 Mooney / Polish ✗ (Irish)\n",
      "75000 75% (4m 35s) 3.1172 Kock / Czech ✗ (German)\n",
      "80000 80% (4m 53s) 0.8851 Shin / Korean ✓\n",
      "85000 85% (5m 11s) 0.5020 Taylor / Scottish ✓\n",
      "90000 90% (5m 30s) 0.3295 Gomolka / Polish ✓\n",
      "95000 95% (5m 47s) 0.8458 Cornett / French ✓\n",
      "100000 100% (6m 5s) 4.0094 Weichert / Dutch ✗ (Czech)\n"
     ]
    }
   ],
   "source": [
    "import time\n",
    "import math\n",
    "\n",
    "n_iters = 100000\n",
    "print_every = 5000\n",
    "plot_every = 1000\n",
    "\n",
    "\n",
    "\n",
    "# Keep track of losses for plotting\n",
    "current_loss = 0\n",
    "all_losses = []\n",
    "\n",
    "def timeSince(since):\n",
    "    now = time.time()\n",
    "    s = now - since\n",
    "    m = math.floor(s / 60)\n",
    "    s -= m * 60\n",
    "    return '%dm %ds' % (m, s)\n",
    "\n",
    "start = time.time()\n",
    "\n",
    "for iter in range(1, n_iters + 1):\n",
    "    category, line, category_tensor, line_tensor = randomTrainingExample()\n",
    "    output, loss = train(category_tensor, line_tensor)\n",
    "    current_loss += loss\n",
    "\n",
    "    # Print iter number, loss, name and guess\n",
    "    if iter % print_every == 0:\n",
    "        guess, guess_i = categoryFromOutput(output)\n",
    "        correct = '✓' if guess == category else '✗ (%s)' % category\n",
    "        print('%d %d%% (%s) %.4f %s / %s %s' % (iter, iter / n_iters * 100, timeSince(start), loss, line, guess, correct))\n",
    "\n",
    "    # Add current loss avg to list of losses\n",
    "    if iter % plot_every == 0:\n",
    "        all_losses.append(current_loss / plot_every)\n",
    "        current_loss = 0"
   ]
  },
  {
   "cell_type": "code",
   "execution_count": 19,
   "id": "4a0fe190-50c7-4ce2-9138-38440d091c05",
   "metadata": {},
   "outputs": [
    {
     "data": {
      "text/plain": [
       "[<matplotlib.lines.Line2D at 0x7f797604a4f0>]"
      ]
     },
     "execution_count": 19,
     "metadata": {},
     "output_type": "execute_result"
    },
    {
     "data": {
      "image/png": "[encoded data removed]",
      "text/plain": [
       "<Figure size 640x480 with 1 Axes>"
      ]
     },
     "metadata": {},
     "output_type": "display_data"
    }
   ],
   "source": [
    "import matplotlib.pyplot as plt\n",
    "import matplotlib.ticker as ticker\n",
    "\n",
    "plt.figure()\n",
    "plt.plot(all_losses)"
   ]
  },
  {
   "cell_type": "markdown",
   "id": "90d915c9-ac14-4005-af04-4d38b2d34078",
   "metadata": {},
   "source": [
    "-----------------------------\n",
    "## Evaluate the Model"
   ]
  },
  {
   "cell_type": "code",
   "execution_count": 22,
   "id": "d63a315b-a2fb-4949-8bbd-b460a4f5aaf5",
   "metadata": {},
   "outputs": [
    {
     "name": "stderr",
     "output_type": "stream",
     "text": [
      "/tmp/ipykernel_8290/3029705143.py:33: UserWarning: FixedFormatter should only be used together with FixedLocator\n",
      "  ax.set_xticklabels([''] + all_categories, rotation=90)\n",
      "/tmp/ipykernel_8290/3029705143.py:34: UserWarning: FixedFormatter should only be used together with FixedLocator\n",
      "  ax.set_yticklabels([''] + all_categories)\n"
     ]
    },
    {
     "data": {
      "image/png": "[encoded data removed]",
      "text/plain": [
       "<Figure size 640x480 with 2 Axes>"
      ]
     },
     "metadata": {},
     "output_type": "display_data"
    }
   ],
   "source": [
    "# Keep track of correct guesses in a confusion matrix\n",
    "confusion = torch.zeros(n_categories, n_categories)\n",
    "n_confusion = 10000\n",
    "\n",
    "# Just return an output given a line\n",
    "def evaluate(line_tensor):\n",
    "    hidden = model.initHidden()\n",
    "\n",
    "    for i in range(line_tensor.size()[0]):\n",
    "        output, hidden = model(line_tensor[i], hidden)\n",
    "\n",
    "    return output\n",
    "\n",
    "# Go through a bunch of examples and record which are correctly guessed\n",
    "for i in range(n_confusion):\n",
    "    category, line, category_tensor, line_tensor = randomTrainingExample()\n",
    "    output = evaluate(line_tensor)\n",
    "    guess, guess_i = categoryFromOutput(output)\n",
    "    category_i = all_categories.index(category)\n",
    "    confusion[category_i][guess_i] += 1\n",
    "\n",
    "# Normalize by dividing every row by its sum\n",
    "for i in range(n_categories):\n",
    "    confusion[i] = confusion[i] / confusion[i].sum()\n",
    "\n",
    "# Set up plot\n",
    "fig = plt.figure()\n",
    "ax = fig.add_subplot(111)\n",
    "cax = ax.matshow(confusion.numpy())\n",
    "fig.colorbar(cax)\n",
    "\n",
    "# Set up axes\n",
    "ax.set_xticklabels([''] + all_categories, rotation=90)\n",
    "ax.set_yticklabels([''] + all_categories)\n",
    "\n",
    "# Force label at every tick\n",
    "ax.xaxis.set_major_locator(ticker.MultipleLocator(1))\n",
    "ax.yaxis.set_major_locator(ticker.MultipleLocator(1))\n",
    "\n",
    "# sphinx_gallery_thumbnail_number = 2\n",
    "plt.show()"
   ]
  },
  {
   "cell_type": "markdown",
   "id": "b8f3a5cb-51c9-4fa3-beba-5e2159ae178e",
   "metadata": {},
   "source": [
    "------------------------------------\n",
    "## Running on User Input"
   ]
  },
  {
   "cell_type": "code",
   "execution_count": 23,
   "id": "89056122-e782-4b60-95c3-afc4299342f5",
   "metadata": {},
   "outputs": [
    {
     "name": "stdout",
     "output_type": "stream",
     "text": [
      "\n",
      "> Dovesky\n",
      "(-0.26) Russian\n",
      "(-1.74) Czech\n",
      "(-3.79) English\n",
      "\n",
      "> Jackson\n",
      "(-1.04) English\n",
      "(-1.44) Russian\n",
      "(-1.65) Scottish\n",
      "\n",
      "> Satoshi\n",
      "(-0.61) Japanese\n",
      "(-1.57) Italian\n",
      "(-2.48) Arabic\n"
     ]
    }
   ],
   "source": [
    "def predict(input_line, n_predictions=3):\n",
    "    print('\\n> %s' % input_line)\n",
    "    with torch.no_grad():\n",
    "        output = evaluate(lineToTensor(input_line))\n",
    "\n",
    "        # Get top N categories\n",
    "        topv, topi = output.topk(n_predictions, 1, True)\n",
    "        predictions = []\n",
    "\n",
    "        for i in range(n_predictions):\n",
    "            value = topv[0][i].item()\n",
    "            category_index = topi[0][i].item()\n",
    "            print('(%.2f) %s' % (value, all_categories[category_index]))\n",
    "            predictions.append([value, all_categories[category_index]])\n",
    "\n",
    "predict('Dovesky')\n",
    "predict('Jackson')\n",
    "predict('Satoshi')"
   ]
  },
  {
   "cell_type": "code",
   "execution_count": 24,
   "id": "5cd983ea-92a8-4bb2-b4ce-38ff31471ba0",
   "metadata": {},
   "outputs": [
    {
     "name": "stdout",
     "output_type": "stream",
     "text": [
      "\n",
      "> sangah\n",
      "(-1.04) Irish\n",
      "(-1.57) Russian\n",
      "(-2.38) French\n"
     ]
    }
   ],
   "source": [
    "predict('sangah')"
   ]
  },
  {
   "cell_type": "code",
   "execution_count": 25,
   "id": "ae48d9e7-3e11-47bf-a0f4-571078847a28",
   "metadata": {},
   "outputs": [
    {
     "name": "stdout",
     "output_type": "stream",
     "text": [
      "\n",
      "> rotto\n",
      "(-0.71) Italian\n",
      "(-1.56) Spanish\n",
      "(-1.65) Portuguese\n"
     ]
    }
   ],
   "source": [
    "predict('rotto')"
   ]
  },
  {
   "cell_type": "code",
   "execution_count": 26,
   "id": "3dd1f0de-ff72-4cbd-be0c-6846c93bf32d",
   "metadata": {},
   "outputs": [
    {
     "name": "stdout",
     "output_type": "stream",
     "text": [
      "\n",
      "> seungmin\n",
      "(-0.78) Russian\n",
      "(-1.67) French\n",
      "(-2.21) Irish\n"
     ]
    }
   ],
   "source": [
    "predict('seungmin')"
   ]
  },
  {
   "cell_type": "code",
   "execution_count": 27,
   "id": "55b202ee-84d4-4d71-a2e9-777ea9bc96c6",
   "metadata": {},
   "outputs": [
    {
     "name": "stdout",
     "output_type": "stream",
     "text": [
      "\n",
      "> han\n",
      "(-1.19) Vietnamese\n",
      "(-1.39) Chinese\n",
      "(-1.42) Irish\n"
     ]
    }
   ],
   "source": [
    "predict('han')"
   ]
  },
  {
   "cell_type": "code",
   "execution_count": 28,
   "id": "f6968cd2-fcbb-4216-8431-00a8712e6cfd",
   "metadata": {},
   "outputs": [
    {
     "name": "stdout",
     "output_type": "stream",
     "text": [
      "\n",
      "> kim\n",
      "(-1.02) Russian\n",
      "(-1.91) Czech\n",
      "(-2.52) Scottish\n"
     ]
    }
   ],
   "source": [
    "predict('kim')"
   ]
  },
  {
   "cell_type": "code",
   "execution_count": 29,
   "id": "f6fc5275-2d6c-43f9-937e-dd43a0f900f2",
   "metadata": {},
   "outputs": [
    {
     "name": "stdout",
     "output_type": "stream",
     "text": [
      "\n",
      "> ivory\n",
      "(-1.15) French\n",
      "(-1.61) Russian\n",
      "(-1.95) English\n"
     ]
    }
   ],
   "source": [
    "predict('ivory')"
   ]
  },
  {
   "cell_type": "code",
   "execution_count": 30,
   "id": "5d7d99fa-3e11-425b-8687-f7005f7a9af8",
   "metadata": {},
   "outputs": [
    {
     "name": "stdout",
     "output_type": "stream",
     "text": [
      "\n",
      "> mina\n",
      "(-1.57) Italian\n",
      "(-1.80) Spanish\n",
      "(-1.98) Czech\n"
     ]
    }
   ],
   "source": [
    "predict('mina')"
   ]
  },
  {
   "cell_type": "code",
   "execution_count": null,
   "id": "73963516-ba17-4d43-8d17-775d369ea6c4",
   "metadata": {},
   "outputs": [],
   "source": []
  },
  {
   "cell_type": "code",
   "execution_count": null,
   "id": "cebee8b6-0e25-4719-b40a-c82c86c2724c",
   "metadata": {},
   "outputs": [],
   "source": []
  },
  {
   "cell_type": "code",
   "execution_count": null,
   "id": "82bdd837-b163-4271-8738-e54076f1fb83",
   "metadata": {},
   "outputs": [],
   "source": []
  }
 ],
 "metadata": {
  "kernelspec": {
   "display_name": "Python 3 (ipykernel)",
   "language": "python",
   "name": "python3"
  },
  "language_info": {
   "codemirror_mode": {
    "name": "ipython",
    "version": 3
   },
   "file_extension": ".py",
   "mimetype": "text/x-python",
   "name": "python",
   "nbconvert_exporter": "python",
   "pygments_lexer": "ipython3",
   "version": "3.9.12"
  }
 },
 "nbformat": 4,
 "nbformat_minor": 5
}
