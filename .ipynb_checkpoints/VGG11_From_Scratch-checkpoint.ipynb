{
 "cells": [
  {
   "cell_type": "markdown",
   "id": "916d4774-644a-40fc-b966-3aeb90f5d69d",
   "metadata": {},
   "source": [
    "# VGG11 from scratch\n",
    "\n",
    "Last Update : 2022/11/15\n",
    "\n",
    "Author : [jhbale11](https://github.com/jhbale11)\n",
    "\n",
    "------------------------------------------------\n",
    "\n",
    "Deep Learning에서는 새로운 데이터셋에 대한 Fine-tuning과 전이학습을 위해 항상 사전 훈련된 Pre-trained Model을 사용합니다. 사전 훈련된 모델이 아니라면 대부분 Pytorch 및 TensorFlow와 같은 유명한 라이브러리의 사전 정의된 모델을 사용하고 처음부터 훈련합니다. 그러나 전부는 아니더라도, 적어도 잘 알려진 모델들 중 일부는 딥러닝 모델을 처음부터 구현하는 법을 아는 것도 매우 중요합니다.\n",
    "\n",
    "위의 이유가 이 튜토리얼에서 Pytorch를 사용하여 처음부터 끝까지 VGG11 딥러닝 모델을 구현하는 이유입니다."
   ]
  },
  {
   "cell_type": "markdown",
   "id": "575ec639-1b2e-4272-a94d-792b954de905",
   "metadata": {},
   "source": [
    "![](https://debuggercafe.com/wp-content/uploads/2021/04/vgg.jpg)\n",
    "\n",
    "#### What are we going to do in this notebook?\n",
    "- The VGG11 Deep Neural Network Model.\n",
    "  - VGG11 모델의 구조 이해\n",
    "  - Convolutiopn Layer와 Fully Connected Layer 이해\n",
    "  - 파라미터의 수 이해\n",
    "- Implementing VGG11 from scratch using PyTorch."
   ]
  },
  {
   "cell_type": "markdown",
   "id": "239f3f5d-af9c-430e-b2a2-b22139debaa3",
   "metadata": {},
   "source": [
    "--------------------------------------------\n",
    "## VGG11 DNN Model\n",
    "\n",
    "- [paper : Very Deep Convolutional Networks For Large-Scale Image Recognition, ICLR 2015](https://arxiv.org/pdf/1409.1556v6.pdf)\n",
    "\n",
    "논문에서 저자는 VGG 모델에 대한 하나가 아니라 여섯 가지 다른 네트워크 구성을 소개하였습니다. 그들 중 일부는 Layer의 수에 차이가 있으며, 일부는 Layer의 구성에 차이가 있습니다.\n",
    "\n",
    "이 노트북에서는 그 중 VGG11 모델에 초점을 맞출 것입니다. VGG11은 이름 그래도 11개의 Layer로 이루어진 딥러닝 모델입니다. 그 중 8개는 Convolutional Layer이며, 3개는 Fully Connected Layer입니다.\n",
    "\n",
    "![](https://debuggercafe.com/wp-content/uploads/2021/04/vgg_architectures_table.jpg)"
   ]
  },
  {
   "cell_type": "markdown",
   "id": "d1d3e5ed-f260-4898-b6cf-2c83e48c4b8a",
   "metadata": {},
   "source": [
    "## Forward Algorithm\n",
    "\n",
    "![](https://debuggercafe.com/wp-content/uploads/2021/04/vgg_11_block_diagram.jpg)"
   ]
  },
  {
   "cell_type": "code",
   "execution_count": 3,
   "id": "a75eef1e-ebfc-4fd5-a2cd-33acdaf03b35",
   "metadata": {},
   "outputs": [],
   "source": [
    "import torch\n",
    "import torchvision\n",
    "import torchvision.transforms as transforms\n",
    "import matplotlib.pyplot as plt\n",
    "import matplotlib\n",
    "import torch.nn as nn\n",
    "import torch.optim as optim\n",
    "from tqdm import tqdm\n",
    "\n",
    "matplotlib.style.use('ggplot')"
   ]
  },
  {
   "cell_type": "markdown",
   "id": "8021eec3-0e24-4202-9a01-821985139fec",
   "metadata": {},
   "source": [
    "--------------------------------------------\n",
    "## Create the Network"
   ]
  },
  {
   "cell_type": "code",
   "execution_count": 8,
   "id": "70712cc5-329a-4f5a-850e-eb6a34c40edd",
   "metadata": {},
   "outputs": [],
   "source": [
    "# the VGG11 architecture\n",
    "class VGG11(nn.Module):\n",
    "    def __init__(self, in_channels, num_classes=1000):\n",
    "        super(VGG11, self).__init__()\n",
    "        self.in_channels = in_channels\n",
    "        self.num_classes = num_classes\n",
    "        # convolutional layers \n",
    "        self.conv_layers = nn.Sequential(\n",
    "            # 1\n",
    "            nn.Conv2d(self.in_channels, 64, kernel_size=3, padding=1),\n",
    "            nn.ReLU(),\n",
    "            nn.MaxPool2d(kernel_size=2, stride=2),\n",
    "            \n",
    "            # 2\n",
    "            nn.Conv2d(64, 128, kernel_size=3, padding=1),\n",
    "            nn.ReLU(),\n",
    "            nn.MaxPool2d(kernel_size=2, stride=2),\n",
    "            \n",
    "            # 3\n",
    "            nn.Conv2d(128, 256, kernel_size=3, padding=1),\n",
    "            nn.ReLU(),\n",
    "            nn.Conv2d(256, 256, kernel_size=3, padding=1),\n",
    "            nn.ReLU(),\n",
    "            nn.MaxPool2d(kernel_size=2, stride=2),\n",
    "            \n",
    "            # 4\n",
    "            nn.Conv2d(256, 512, kernel_size=3, padding=1),\n",
    "            nn.ReLU(),\n",
    "            nn.Conv2d(512, 512, kernel_size=3, padding=1),\n",
    "            nn.ReLU(),\n",
    "            nn.MaxPool2d(kernel_size=2, stride=2),\n",
    "            \n",
    "            #5\n",
    "            nn.Conv2d(512, 512, kernel_size=3, padding=1),\n",
    "            nn.ReLU(),\n",
    "            \n",
    "            # 6\n",
    "            nn.Conv2d(512, 512, kernel_size=3, padding=1),\n",
    "            nn.ReLU(),\n",
    "            nn.MaxPool2d(kernel_size=2, stride=2)\n",
    "        )\n",
    "        \n",
    "        # fully connected linear layers\n",
    "        self.linear_layers = nn.Sequential(\n",
    "            # 1\n",
    "            nn.Linear(in_features=512*7*7, out_features=4096),\n",
    "            nn.ReLU(),\n",
    "            nn.Dropout2d(0.5),\n",
    "            \n",
    "            # 2\n",
    "            nn.Linear(in_features=4096, out_features=4096),\n",
    "            nn.ReLU(),\n",
    "            nn.Dropout2d(0.5),\n",
    "            nn.Linear(in_features=4096, out_features=self.num_classes)\n",
    "        )\n",
    "    def forward(self, x):\n",
    "        x = self.conv_layers(x)\n",
    "        \n",
    "        # flatten to prepare for the fully connected layers\n",
    "        x = x.view(x.size(0), -1)\n",
    "        \n",
    "        x = self.linear_layers(x)\n",
    "        return x"
   ]
  },
  {
   "cell_type": "code",
   "execution_count": 4,
   "id": "91751641-1b2c-4afd-98a2-f33862191655",
   "metadata": {},
   "outputs": [
    {
     "name": "stdout",
     "output_type": "stream",
     "text": [
      "[INFO]: Computation device: cuda\n"
     ]
    }
   ],
   "source": [
    "device = torch.device('cuda' if torch.cuda.is_available() else 'cpu')\n",
    "print(f\"[INFO]: Computation device: {device}\")\n",
    "epochs = 10\n",
    "batch_size = 32"
   ]
  },
  {
   "cell_type": "code",
   "execution_count": 5,
   "id": "d789e81e-adb7-48d9-85dc-2cb446a3908e",
   "metadata": {},
   "outputs": [],
   "source": [
    "# our transforms will differ a bit from the VGG paper\n",
    "# as we are using the MNIST dataset, so, we will directly resize...\n",
    "# ... the images to 224x224 and not crop them and we will not use...\n",
    "# ... any random flippings also\n",
    "train_transform = transforms.Compose(\n",
    "    [transforms.Resize((224, 224)),\n",
    "     transforms.ToTensor(),\n",
    "     transforms.Normalize(mean=(0.5), std=(0.5))])\n",
    "valid_transform = transforms.Compose(\n",
    "    [transforms.Resize((224, 224)),\n",
    "     transforms.ToTensor(),\n",
    "     transforms.Normalize(mean=(0.5), std=(0.5))])"
   ]
  },
  {
   "cell_type": "code",
   "execution_count": 6,
   "id": "cf4999c7-e14e-4e21-beb4-a745e011fbab",
   "metadata": {},
   "outputs": [
    {
     "name": "stdout",
     "output_type": "stream",
     "text": [
      "Downloading http://yann.lecun.com/exdb/mnist/train-images-idx3-ubyte.gz\n",
      "Downloading http://yann.lecun.com/exdb/mnist/train-images-idx3-ubyte.gz to ./data/MNIST/raw/train-images-idx3-ubyte.gz\n"
     ]
    },
    {
     "name": "stderr",
     "output_type": "stream",
     "text": [
      "100.0%\n"
     ]
    },
    {
     "name": "stdout",
     "output_type": "stream",
     "text": [
      "Extracting ./data/MNIST/raw/train-images-idx3-ubyte.gz to ./data/MNIST/raw\n",
      "\n",
      "Downloading http://yann.lecun.com/exdb/mnist/train-labels-idx1-ubyte.gz\n",
      "Downloading http://yann.lecun.com/exdb/mnist/train-labels-idx1-ubyte.gz to ./data/MNIST/raw/train-labels-idx1-ubyte.gz\n"
     ]
    },
    {
     "name": "stderr",
     "output_type": "stream",
     "text": [
      "100.0%\n"
     ]
    },
    {
     "name": "stdout",
     "output_type": "stream",
     "text": [
      "Extracting ./data/MNIST/raw/train-labels-idx1-ubyte.gz to ./data/MNIST/raw\n",
      "\n",
      "Downloading http://yann.lecun.com/exdb/mnist/t10k-images-idx3-ubyte.gz\n",
      "Downloading http://yann.lecun.com/exdb/mnist/t10k-images-idx3-ubyte.gz to ./data/MNIST/raw/t10k-images-idx3-ubyte.gz\n"
     ]
    },
    {
     "name": "stderr",
     "output_type": "stream",
     "text": [
      "100.0%\n"
     ]
    },
    {
     "name": "stdout",
     "output_type": "stream",
     "text": [
      "Extracting ./data/MNIST/raw/t10k-images-idx3-ubyte.gz to ./data/MNIST/raw\n",
      "\n",
      "Downloading http://yann.lecun.com/exdb/mnist/t10k-labels-idx1-ubyte.gz\n",
      "Downloading http://yann.lecun.com/exdb/mnist/t10k-labels-idx1-ubyte.gz to ./data/MNIST/raw/t10k-labels-idx1-ubyte.gz\n"
     ]
    },
    {
     "name": "stderr",
     "output_type": "stream",
     "text": [
      "100.0%"
     ]
    },
    {
     "name": "stdout",
     "output_type": "stream",
     "text": [
      "Extracting ./data/MNIST/raw/t10k-labels-idx1-ubyte.gz to ./data/MNIST/raw\n",
      "\n"
     ]
    },
    {
     "name": "stderr",
     "output_type": "stream",
     "text": [
      "\n"
     ]
    }
   ],
   "source": [
    "# training dataset and data loader\n",
    "train_dataset = torchvision.datasets.MNIST(root='./data', train=True,\n",
    "                                             download=True, \n",
    "                                             transform=train_transform)\n",
    "train_dataloader = torch.utils.data.DataLoader(train_dataset, \n",
    "                                               batch_size=batch_size,\n",
    "                                               shuffle=True)\n",
    "# validation dataset and dataloader\n",
    "valid_dataset = torchvision.datasets.MNIST(root='./data', train=False,\n",
    "                                           download=True, \n",
    "                                           transform=valid_transform)\n",
    "valid_dataloader = torch.utils.data.DataLoader(valid_dataset, \n",
    "                                             batch_size=batch_size,\n",
    "                                             shuffle=False)"
   ]
  },
  {
   "cell_type": "code",
   "execution_count": 9,
   "id": "d695c77f-184e-4258-827d-a3a130c86726",
   "metadata": {},
   "outputs": [
    {
     "name": "stdout",
     "output_type": "stream",
     "text": [
      "[INFO]: 128,806,154 total parameters.\n",
      "[INFO]: 128,806,154 trainable parameters.\n"
     ]
    }
   ],
   "source": [
    "# instantiate the model\n",
    "model = VGG11(in_channels=1, num_classes=10).to(device)\n",
    "\n",
    "# total parameters and trainable parameters\n",
    "total_params = sum(p.numel() for p in model.parameters())\n",
    "print(f\"[INFO]: {total_params:,} total parameters.\")\n",
    "total_trainable_params = sum(\n",
    "    p.numel() for p in model.parameters() if p.requires_grad)\n",
    "print(f\"[INFO]: {total_trainable_params:,} trainable parameters.\")\n",
    "\n",
    "# the loss function\n",
    "criterion = nn.CrossEntropyLoss()\n",
    "\n",
    "# the optimizer\n",
    "optimizer = optim.SGD(model.parameters(), lr=0.01, momentum=0.9, \n",
    "                      weight_decay=0.0005)"
   ]
  },
  {
   "cell_type": "markdown",
   "id": "e0696565-053c-408a-aa99-699d20583bbc",
   "metadata": {},
   "source": [
    "--------------------------------------------\n",
    "## Train the Model"
   ]
  },
  {
   "cell_type": "code",
   "execution_count": 10,
   "id": "f5bc43ef-e485-4add-b1bc-aa00327f9266",
   "metadata": {},
   "outputs": [],
   "source": [
    "# training\n",
    "def train(model, trainloader, optimizer, criterion):\n",
    "    model.train()\n",
    "    print('Training')\n",
    "    train_running_loss = 0.0\n",
    "    train_running_correct = 0\n",
    "    counter = 0\n",
    "    for i, data in tqdm(enumerate(trainloader), total=len(trainloader)):\n",
    "        counter += 1\n",
    "        image, labels = data\n",
    "        image = image.to(device)\n",
    "        labels = labels.to(device)\n",
    "        optimizer.zero_grad()\n",
    "        # forward pass\n",
    "        outputs = model(image)\n",
    "        # calculate the loss\n",
    "        loss = criterion(outputs, labels)\n",
    "        train_running_loss += loss.item()\n",
    "        # calculate the accuracy\n",
    "        _, preds = torch.max(outputs.data, 1)\n",
    "        train_running_correct += (preds == labels).sum().item()\n",
    "        loss.backward()\n",
    "        optimizer.step()\n",
    "    \n",
    "    epoch_loss = train_running_loss / counter\n",
    "    epoch_acc = 100. * (train_running_correct / len(trainloader.dataset))\n",
    "    return epoch_loss, epoch_acc"
   ]
  },
  {
   "cell_type": "markdown",
   "id": "1076fbc7-c85e-4b0c-ac1f-ded3eedfd7b6",
   "metadata": {},
   "source": [
    "--------------------------------------------\n",
    "## Validate the Model"
   ]
  },
  {
   "cell_type": "code",
   "execution_count": 11,
   "id": "41c1bd40-80a4-4fdb-9c31-d6b559b187bc",
   "metadata": {},
   "outputs": [],
   "source": [
    "# validation\n",
    "def validate(model, testloader, criterion):\n",
    "    model.eval()\n",
    "    \n",
    "    # we need two lists to keep track of class-wise accuracy\n",
    "    class_correct = list(0. for i in range(10))\n",
    "    class_total = list(0. for i in range(10))\n",
    "    print('Validation')\n",
    "    valid_running_loss = 0.0\n",
    "    valid_running_correct = 0\n",
    "    counter = 0\n",
    "    with torch.no_grad():\n",
    "        for i, data in tqdm(enumerate(testloader), total=len(testloader)):\n",
    "            counter += 1\n",
    "            \n",
    "            image, labels = data\n",
    "            image = image.to(device)\n",
    "            labels = labels.to(device)\n",
    "            # forward pass\n",
    "            outputs = model(image)\n",
    "            # calculate the loss\n",
    "            loss = criterion(outputs, labels)\n",
    "            valid_running_loss += loss.item()\n",
    "            # calculate the accuracy\n",
    "            _, preds = torch.max(outputs.data, 1)\n",
    "            valid_running_correct += (preds == labels).sum().item()\n",
    "            # calculate the accuracy for each class\n",
    "            correct  = (preds == labels).squeeze()\n",
    "            for i in range(len(preds)):\n",
    "                label = labels[i]\n",
    "                class_correct[label] += correct[i].item()\n",
    "                class_total[label] += 1\n",
    "        \n",
    "    epoch_loss = valid_running_loss / counter\n",
    "    epoch_acc = 100. * (valid_running_correct / len(testloader.dataset))\n",
    "    # print the accuracy for each class after evey epoch\n",
    "    # the values should increase as the training goes on\n",
    "    print('\\n')\n",
    "    for i in range(10):\n",
    "        print(f\"Accuracy of digit {i}: {100*class_correct[i]/class_total[i]}\")\n",
    "    return epoch_loss, epoch_acc"
   ]
  },
  {
   "cell_type": "code",
   "execution_count": 12,
   "id": "dd3e16e6-7c23-4de6-be58-c77f0ba6c6da",
   "metadata": {},
   "outputs": [
    {
     "name": "stdout",
     "output_type": "stream",
     "text": [
      "[INFO]: Epoch 1 of 10\n",
      "Training\n"
     ]
    },
    {
     "name": "stderr",
     "output_type": "stream",
     "text": [
      "  0%|                                                                                                   | 0/1875 [00:00<?, ?it/s]/home/jhbale11/anaconda3/envs/pytorch/lib/python3.9/site-packages/torch/nn/functional.py:1331: UserWarning: dropout2d: Received a 2-D input to dropout2d, which is deprecated and will result in an error in a future release. To retain the behavior and silence this warning, please use dropout instead. Note that dropout2d exists to provide channel-wise dropout on inputs with 2 spatial dimensions, a channel dimension, and an optional batch dimension (i.e. 3D or 4D inputs).\n",
      "  warnings.warn(warn_msg)\n",
      "100%|████████████████████████████████████████████████████████████████████████████████████████| 1875/1875 [02:44<00:00, 11.38it/s]\n"
     ]
    },
    {
     "name": "stdout",
     "output_type": "stream",
     "text": [
      "Validation\n"
     ]
    },
    {
     "name": "stderr",
     "output_type": "stream",
     "text": [
      "100%|██████████████████████████████████████████████████████████████████████████████████████████| 313/313 [00:13<00:00, 22.85it/s]\n"
     ]
    },
    {
     "name": "stdout",
     "output_type": "stream",
     "text": [
      "\n",
      "\n",
      "Accuracy of digit 0: 98.16326530612245\n",
      "Accuracy of digit 1: 99.29515418502203\n",
      "Accuracy of digit 2: 95.25193798449612\n",
      "Accuracy of digit 3: 77.62376237623762\n",
      "Accuracy of digit 4: 91.75152749490834\n",
      "Accuracy of digit 5: 95.17937219730942\n",
      "Accuracy of digit 6: 88.93528183716076\n",
      "Accuracy of digit 7: 92.02334630350195\n",
      "Accuracy of digit 8: 78.33675564681725\n",
      "Accuracy of digit 9: 91.2784935579782\n",
      "\n",
      "\n",
      "Training loss: 2.232, training acc: 14.395\n",
      "Validation loss: 0.290, validation acc: 90.880\n",
      "--------------------------------------------------\n",
      "[INFO]: Epoch 2 of 10\n",
      "Training\n"
     ]
    },
    {
     "name": "stderr",
     "output_type": "stream",
     "text": [
      "100%|████████████████████████████████████████████████████████████████████████████████████████| 1875/1875 [02:41<00:00, 11.59it/s]\n"
     ]
    },
    {
     "name": "stdout",
     "output_type": "stream",
     "text": [
      "Validation\n"
     ]
    },
    {
     "name": "stderr",
     "output_type": "stream",
     "text": [
      "100%|██████████████████████████████████████████████████████████████████████████████████████████| 313/313 [00:13<00:00, 22.84it/s]\n"
     ]
    },
    {
     "name": "stdout",
     "output_type": "stream",
     "text": [
      "\n",
      "\n",
      "Accuracy of digit 0: 98.87755102040816\n",
      "Accuracy of digit 1: 99.73568281938326\n",
      "Accuracy of digit 2: 97.86821705426357\n",
      "Accuracy of digit 3: 98.91089108910892\n",
      "Accuracy of digit 4: 99.28716904276986\n",
      "Accuracy of digit 5: 98.87892376681614\n",
      "Accuracy of digit 6: 99.16492693110648\n",
      "Accuracy of digit 7: 99.5136186770428\n",
      "Accuracy of digit 8: 97.12525667351129\n",
      "Accuracy of digit 9: 94.74727452923686\n",
      "\n",
      "\n",
      "Training loss: 0.119, training acc: 96.510\n",
      "Validation loss: 0.046, validation acc: 98.420\n",
      "--------------------------------------------------\n",
      "[INFO]: Epoch 3 of 10\n",
      "Training\n"
     ]
    },
    {
     "name": "stderr",
     "output_type": "stream",
     "text": [
      "100%|████████████████████████████████████████████████████████████████████████████████████████| 1875/1875 [02:41<00:00, 11.59it/s]\n"
     ]
    },
    {
     "name": "stdout",
     "output_type": "stream",
     "text": [
      "Validation\n"
     ]
    },
    {
     "name": "stderr",
     "output_type": "stream",
     "text": [
      "100%|██████████████████████████████████████████████████████████████████████████████████████████| 313/313 [00:15<00:00, 20.72it/s]\n"
     ]
    },
    {
     "name": "stdout",
     "output_type": "stream",
     "text": [
      "\n",
      "\n",
      "Accuracy of digit 0: 98.87755102040816\n",
      "Accuracy of digit 1: 99.11894273127753\n",
      "Accuracy of digit 2: 97.09302325581395\n",
      "Accuracy of digit 3: 99.9009900990099\n",
      "Accuracy of digit 4: 98.77800407331975\n",
      "Accuracy of digit 5: 99.55156950672645\n",
      "Accuracy of digit 6: 99.16492693110648\n",
      "Accuracy of digit 7: 99.22178988326849\n",
      "Accuracy of digit 8: 98.66529774127311\n",
      "Accuracy of digit 9: 97.42319127849356\n",
      "\n",
      "\n",
      "Training loss: 0.052, training acc: 98.437\n",
      "Validation loss: 0.039, validation acc: 98.770\n",
      "--------------------------------------------------\n",
      "[INFO]: Epoch 4 of 10\n",
      "Training\n"
     ]
    },
    {
     "name": "stderr",
     "output_type": "stream",
     "text": [
      "100%|████████████████████████████████████████████████████████████████████████████████████████| 1875/1875 [02:41<00:00, 11.59it/s]\n"
     ]
    },
    {
     "name": "stdout",
     "output_type": "stream",
     "text": [
      "Validation\n"
     ]
    },
    {
     "name": "stderr",
     "output_type": "stream",
     "text": [
      "100%|██████████████████████████████████████████████████████████████████████████████████████████| 313/313 [00:14<00:00, 21.23it/s]\n"
     ]
    },
    {
     "name": "stdout",
     "output_type": "stream",
     "text": [
      "\n",
      "\n",
      "Accuracy of digit 0: 99.28571428571429\n",
      "Accuracy of digit 1: 99.8237885462555\n",
      "Accuracy of digit 2: 99.2248062015504\n",
      "Accuracy of digit 3: 99.5049504950495\n",
      "Accuracy of digit 4: 98.4725050916497\n",
      "Accuracy of digit 5: 97.98206278026906\n",
      "Accuracy of digit 6: 99.06054279749478\n",
      "Accuracy of digit 7: 99.22178988326849\n",
      "Accuracy of digit 8: 99.69199178644764\n",
      "Accuracy of digit 9: 98.01783944499505\n",
      "\n",
      "\n",
      "Training loss: 0.039, training acc: 98.790\n",
      "Validation loss: 0.029, validation acc: 99.050\n",
      "--------------------------------------------------\n",
      "[INFO]: Epoch 5 of 10\n",
      "Training\n"
     ]
    },
    {
     "name": "stderr",
     "output_type": "stream",
     "text": [
      "100%|████████████████████████████████████████████████████████████████████████████████████████| 1875/1875 [02:41<00:00, 11.60it/s]\n"
     ]
    },
    {
     "name": "stdout",
     "output_type": "stream",
     "text": [
      "Validation\n"
     ]
    },
    {
     "name": "stderr",
     "output_type": "stream",
     "text": [
      "100%|██████████████████████████████████████████████████████████████████████████████████████████| 313/313 [00:15<00:00, 20.45it/s]\n"
     ]
    },
    {
     "name": "stdout",
     "output_type": "stream",
     "text": [
      "\n",
      "\n",
      "Accuracy of digit 0: 99.79591836734694\n",
      "Accuracy of digit 1: 99.73568281938326\n",
      "Accuracy of digit 2: 99.8062015503876\n",
      "Accuracy of digit 3: 99.8019801980198\n",
      "Accuracy of digit 4: 98.98167006109979\n",
      "Accuracy of digit 5: 98.99103139013452\n",
      "Accuracy of digit 6: 98.01670146137788\n",
      "Accuracy of digit 7: 98.73540856031128\n",
      "Accuracy of digit 8: 99.07597535934292\n",
      "Accuracy of digit 9: 97.12586719524282\n",
      "\n",
      "\n",
      "Training loss: 0.031, training acc: 99.050\n",
      "Validation loss: 0.031, validation acc: 99.020\n",
      "--------------------------------------------------\n",
      "[INFO]: Epoch 6 of 10\n",
      "Training\n"
     ]
    },
    {
     "name": "stderr",
     "output_type": "stream",
     "text": [
      "100%|████████████████████████████████████████████████████████████████████████████████████████| 1875/1875 [02:41<00:00, 11.62it/s]\n"
     ]
    },
    {
     "name": "stdout",
     "output_type": "stream",
     "text": [
      "Validation\n"
     ]
    },
    {
     "name": "stderr",
     "output_type": "stream",
     "text": [
      "100%|██████████████████████████████████████████████████████████████████████████████████████████| 313/313 [00:13<00:00, 22.81it/s]\n"
     ]
    },
    {
     "name": "stdout",
     "output_type": "stream",
     "text": [
      "\n",
      "\n",
      "Accuracy of digit 0: 99.89795918367346\n",
      "Accuracy of digit 1: 99.55947136563877\n",
      "Accuracy of digit 2: 99.6124031007752\n",
      "Accuracy of digit 3: 99.60396039603961\n",
      "Accuracy of digit 4: 99.18533604887983\n",
      "Accuracy of digit 5: 98.87892376681614\n",
      "Accuracy of digit 6: 99.06054279749478\n",
      "Accuracy of digit 7: 99.0272373540856\n",
      "Accuracy of digit 8: 99.58932238193019\n",
      "Accuracy of digit 9: 99.10802775024777\n",
      "\n",
      "\n",
      "Training loss: 0.026, training acc: 99.240\n",
      "Validation loss: 0.021, validation acc: 99.360\n",
      "--------------------------------------------------\n",
      "[INFO]: Epoch 7 of 10\n",
      "Training\n"
     ]
    },
    {
     "name": "stderr",
     "output_type": "stream",
     "text": [
      "100%|████████████████████████████████████████████████████████████████████████████████████████| 1875/1875 [02:42<00:00, 11.56it/s]\n"
     ]
    },
    {
     "name": "stdout",
     "output_type": "stream",
     "text": [
      "Validation\n"
     ]
    },
    {
     "name": "stderr",
     "output_type": "stream",
     "text": [
      "100%|██████████████████████████████████████████████████████████████████████████████████████████| 313/313 [00:14<00:00, 21.46it/s]\n"
     ]
    },
    {
     "name": "stdout",
     "output_type": "stream",
     "text": [
      "\n",
      "\n",
      "Accuracy of digit 0: 99.89795918367346\n",
      "Accuracy of digit 1: 99.20704845814979\n",
      "Accuracy of digit 2: 99.8062015503876\n",
      "Accuracy of digit 3: 99.3069306930693\n",
      "Accuracy of digit 4: 98.98167006109979\n",
      "Accuracy of digit 5: 97.75784753363229\n",
      "Accuracy of digit 6: 99.16492693110648\n",
      "Accuracy of digit 7: 99.12451361867704\n",
      "Accuracy of digit 8: 99.38398357289527\n",
      "Accuracy of digit 9: 99.40535183349851\n",
      "\n",
      "\n",
      "Training loss: 0.023, training acc: 99.303\n",
      "Validation loss: 0.026, validation acc: 99.220\n",
      "--------------------------------------------------\n",
      "[INFO]: Epoch 8 of 10\n",
      "Training\n"
     ]
    },
    {
     "name": "stderr",
     "output_type": "stream",
     "text": [
      "100%|████████████████████████████████████████████████████████████████████████████████████████| 1875/1875 [02:42<00:00, 11.57it/s]\n"
     ]
    },
    {
     "name": "stdout",
     "output_type": "stream",
     "text": [
      "Validation\n"
     ]
    },
    {
     "name": "stderr",
     "output_type": "stream",
     "text": [
      "100%|██████████████████████████████████████████████████████████████████████████████████████████| 313/313 [00:13<00:00, 22.37it/s]\n"
     ]
    },
    {
     "name": "stdout",
     "output_type": "stream",
     "text": [
      "\n",
      "\n",
      "Accuracy of digit 0: 99.6938775510204\n",
      "Accuracy of digit 1: 99.64757709251101\n",
      "Accuracy of digit 2: 99.6124031007752\n",
      "Accuracy of digit 3: 99.70297029702971\n",
      "Accuracy of digit 4: 99.38900203665987\n",
      "Accuracy of digit 5: 98.99103139013452\n",
      "Accuracy of digit 6: 98.53862212943632\n",
      "Accuracy of digit 7: 98.34630350194553\n",
      "Accuracy of digit 8: 99.28131416837782\n",
      "Accuracy of digit 9: 99.00891972249752\n",
      "\n",
      "\n",
      "Training loss: 0.020, training acc: 99.407\n",
      "Validation loss: 0.024, validation acc: 99.230\n",
      "--------------------------------------------------\n",
      "[INFO]: Epoch 9 of 10\n",
      "Training\n"
     ]
    },
    {
     "name": "stderr",
     "output_type": "stream",
     "text": [
      "100%|████████████████████████████████████████████████████████████████████████████████████████| 1875/1875 [02:41<00:00, 11.60it/s]\n"
     ]
    },
    {
     "name": "stdout",
     "output_type": "stream",
     "text": [
      "Validation\n"
     ]
    },
    {
     "name": "stderr",
     "output_type": "stream",
     "text": [
      "100%|██████████████████████████████████████████████████████████████████████████████████████████| 313/313 [00:14<00:00, 21.46it/s]\n"
     ]
    },
    {
     "name": "stdout",
     "output_type": "stream",
     "text": [
      "\n",
      "\n",
      "Accuracy of digit 0: 99.28571428571429\n",
      "Accuracy of digit 1: 98.41409691629956\n",
      "Accuracy of digit 2: 99.6124031007752\n",
      "Accuracy of digit 3: 99.3069306930693\n",
      "Accuracy of digit 4: 99.79633401221996\n",
      "Accuracy of digit 5: 99.32735426008969\n",
      "Accuracy of digit 6: 99.37369519832986\n",
      "Accuracy of digit 7: 99.31906614785993\n",
      "Accuracy of digit 8: 99.89733059548254\n",
      "Accuracy of digit 9: 98.01783944499505\n",
      "\n",
      "\n",
      "Training loss: 0.019, training acc: 99.452\n",
      "Validation loss: 0.024, validation acc: 99.220\n",
      "--------------------------------------------------\n",
      "[INFO]: Epoch 10 of 10\n",
      "Training\n"
     ]
    },
    {
     "name": "stderr",
     "output_type": "stream",
     "text": [
      "100%|████████████████████████████████████████████████████████████████████████████████████████| 1875/1875 [02:41<00:00, 11.59it/s]\n"
     ]
    },
    {
     "name": "stdout",
     "output_type": "stream",
     "text": [
      "Validation\n"
     ]
    },
    {
     "name": "stderr",
     "output_type": "stream",
     "text": [
      "100%|██████████████████████████████████████████████████████████████████████████████████████████| 313/313 [00:15<00:00, 20.78it/s]"
     ]
    },
    {
     "name": "stdout",
     "output_type": "stream",
     "text": [
      "\n",
      "\n",
      "Accuracy of digit 0: 99.89795918367346\n",
      "Accuracy of digit 1: 99.47136563876651\n",
      "Accuracy of digit 2: 99.2248062015504\n",
      "Accuracy of digit 3: 98.7128712871287\n",
      "Accuracy of digit 4: 98.67617107942974\n",
      "Accuracy of digit 5: 99.43946188340807\n",
      "Accuracy of digit 6: 98.32985386221294\n",
      "Accuracy of digit 7: 99.41634241245136\n",
      "Accuracy of digit 8: 98.97330595482546\n",
      "Accuracy of digit 9: 98.61248761149653\n",
      "\n",
      "\n",
      "Training loss: 0.018, training acc: 99.447\n",
      "Validation loss: 0.027, validation acc: 99.080\n",
      "--------------------------------------------------\n"
     ]
    },
    {
     "name": "stderr",
     "output_type": "stream",
     "text": [
      "\n"
     ]
    }
   ],
   "source": [
    "# start the training\n",
    "# lists to keep track of losses and accuracies\n",
    "train_loss, valid_loss = [], []\n",
    "train_acc, valid_acc = [], []\n",
    "for epoch in range(epochs):\n",
    "    print(f\"[INFO]: Epoch {epoch+1} of {epochs}\")\n",
    "    train_epoch_loss, train_epoch_acc = train(model, train_dataloader, \n",
    "                                              optimizer, criterion)\n",
    "    valid_epoch_loss, valid_epoch_acc = validate(model, valid_dataloader,  \n",
    "                                                 criterion)\n",
    "    train_loss.append(train_epoch_loss)\n",
    "    valid_loss.append(valid_epoch_loss)\n",
    "    train_acc.append(train_epoch_acc)\n",
    "    valid_acc.append(valid_epoch_acc)\n",
    "    print('\\n')\n",
    "    print(f\"Training loss: {train_epoch_loss:.3f}, training acc: {train_epoch_acc:.3f}\")\n",
    "    print(f\"Validation loss: {valid_epoch_loss:.3f}, validation acc: {valid_epoch_acc:.3f}\")\n",
    "    print('-'*50)"
   ]
  },
  {
   "cell_type": "code",
   "execution_count": 15,
   "id": "92bc314d-4eb7-4907-8a1a-dbafe06b760c",
   "metadata": {},
   "outputs": [
    {
     "data": {
      "image/png": "[encoded data removed]",
      "text/plain": [
       "<Figure size 1000x700 with 1 Axes>"
      ]
     },
     "metadata": {},
     "output_type": "display_data"
    },
    {
     "data": {
      "image/png": "[encoded data removed]",
      "text/plain": [
       "<Figure size 1000x700 with 1 Axes>"
      ]
     },
     "metadata": {},
     "output_type": "display_data"
    },
    {
     "name": "stdout",
     "output_type": "stream",
     "text": [
      "TRAINING COMPLETE\n"
     ]
    }
   ],
   "source": [
    "# save the trained model to disk\n",
    "torch.save({\n",
    "            'epoch': epochs,\n",
    "            'model_state_dict': model.state_dict(),\n",
    "            'optimizer_state_dict': optimizer.state_dict(),\n",
    "            'loss': criterion,\n",
    "            }, './outputs/VGG_model.pth')\n",
    "# accuracy plots\n",
    "plt.figure(figsize=(10, 7))\n",
    "plt.plot(\n",
    "    train_acc, color='green', linestyle='-', \n",
    "    label='train accuracy'\n",
    ")\n",
    "plt.plot(\n",
    "    valid_acc, color='blue', linestyle='-', \n",
    "    label='validataion accuracy'\n",
    ")\n",
    "plt.xlabel('Epochs')\n",
    "plt.ylabel('Accuracy')\n",
    "plt.legend()\n",
    "plt.show()\n",
    "# loss plots\n",
    "plt.figure(figsize=(10, 7))\n",
    "plt.plot(\n",
    "    train_loss, color='orange', linestyle='-', \n",
    "    label='train loss'\n",
    ")\n",
    "plt.plot(\n",
    "    valid_loss, color='red', linestyle='-', \n",
    "    label='validataion loss'\n",
    ")\n",
    "plt.xlabel('Epochs')\n",
    "plt.ylabel('Loss')\n",
    "plt.legend()\n",
    "plt.show()\n",
    " \n",
    "print('TRAINING COMPLETE')"
   ]
  },
  {
   "cell_type": "markdown",
   "id": "0e50804f-a95f-49b6-b008-3ff3fd21141f",
   "metadata": {},
   "source": [
    "--------------------------------------------\n",
    "## Test the Implemented Model"
   ]
  },
  {
   "cell_type": "code",
   "execution_count": 19,
   "id": "f528e851-a8e3-425d-8001-52211a3252f1",
   "metadata": {},
   "outputs": [],
   "source": [
    "import torch\n",
    "import cv2\n",
    "import glob as glob\n",
    "import torchvision.transforms as transforms\n",
    "import numpy as np"
   ]
  },
  {
   "cell_type": "code",
   "execution_count": 21,
   "id": "dfacc83b-c933-4279-bf6d-00c890084fcb",
   "metadata": {},
   "outputs": [],
   "source": [
    "# inferencing on CPU\n",
    "device = 'cpu'\n",
    "# initialize the VGG11 model\n",
    "model = VGG11(in_channels=1, num_classes=10)\n",
    "# load the model checkpoint\n",
    "checkpoint = torch.load('./outputs/VGG_model.pth')\n",
    "# load the trained weights\n",
    "model.load_state_dict(checkpoint['model_state_dict'])\n",
    "model.to(device)\n",
    "model.eval()\n",
    "# simple image transforms\n",
    "transform = transforms.Compose([\n",
    "    transforms.ToPILImage(),\n",
    "    transforms.Resize((224, 224)),\n",
    "    transforms.ToTensor(),\n",
    "    transforms.Normalize(mean=[0.5],\n",
    "                         std=[0.5])\n",
    "])"
   ]
  }
 ],
 "metadata": {
  "kernelspec": {
   "display_name": "Python 3 (ipykernel)",
   "language": "python",
   "name": "python3"
  },
  "language_info": {
   "codemirror_mode": {
    "name": "ipython",
    "version": 3
   },
   "file_extension": ".py",
   "mimetype": "text/x-python",
   "name": "python",
   "nbconvert_exporter": "python",
   "pygments_lexer": "ipython3",
   "version": "3.9.12"
  }
 },
 "nbformat": 4,
 "nbformat_minor": 5
}
