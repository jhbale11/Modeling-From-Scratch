{
 "cells": [
  {
   "cell_type": "markdown",
   "id": "a53d3137-b53a-4352-83bc-23b0476cf9da",
   "metadata": {},
   "source": [
    "# Simple CNN from Scratch\n",
    "\n",
    "- [Convolutional Neural Network](https://en.wikipedia.org/wiki/Convolutional_neural_network)\n",
    "\n",
    "CNNs are a class of Neural Network which work incredibly well on image data. They work similarly to how we humans recognize objects. As mentioned previously, the network first looks at the pixels of an image, then it gradually extracts the important features of the images using convolutions.\n",
    "\n",
    "The term convolution here refers to the mathematical combination of two functions, thus producing a third function. CNNs perform convolutions on the image data using a filter or kernel, then produce a feature map.\n",
    "\n",
    "![](https://miro.medium.com/max/720/1*jUP5jJMkJOYq-jCzsfXtow.webp)\n",
    "\n",
    "The example above uses a robot as the input image and multiple feature maps for processing. You can see that the model produces an output via convolutions and subsampling.\n",
    "\n",
    "![](https://miro.medium.com/max/720/1*1rvRUPJcnhB3KsPYaiWJtQ.webp)\n",
    "\n",
    "The above images show the process of feature mapping. While to human eyes they just look like weird cat pictures, these filters allows computers to pinpoint important features of the image."
   ]
  },
  {
   "cell_type": "markdown",
   "id": "0e678014-1b14-4473-9e2b-1af41a8296c4",
   "metadata": {},
   "source": [
    "## CIFAR dataset\n",
    "\n",
    "- [CIFAR10](https://www.cs.toronto.edu/~kriz/cifar.html)\n",
    "10 classes:`‘airplane’, ‘automobile’, ‘bird’, ‘cat’, ‘deer’, ‘dog’, ‘frog’, ‘horse’, ‘ship’, ‘truck’`\n",
    "\n",
    "**The 5 steps to build an image classification model : **\n",
    "1. Load and normalize the train and test data\n",
    "2. Define the Convolutional Neural Network (CNN)\n",
    "3. Define the loss function and optimizer\n",
    "4. Train the model on the train data\n",
    "5. Test the model on the test data"
   ]
  },
  {
   "cell_type": "code",
   "execution_count": 3,
   "id": "ce11080c-e23d-45e3-8be7-0597dd10b18f",
   "metadata": {},
   "outputs": [],
   "source": [
    "import matplotlib.pyplot as plt # for plotting\n",
    "import numpy as np # for transformation\n",
    "\n",
    "import torch # PyTorch package\n",
    "import torchvision # load datasets\n",
    "import torchvision.transforms as transforms # transform data\n",
    "import torch.nn as nn # basic building block for neural neteorks\n",
    "import torch.nn.functional as F # import convolution functions like Relu\n",
    "import torch.optim as optim # optimzer"
   ]
  },
  {
   "cell_type": "markdown",
   "id": "e850839b-4d9b-4b5d-bf9d-487d0332a740",
   "metadata": {},
   "source": [
    "## 1. Load and Normalize Data"
   ]
  },
  {
   "cell_type": "code",
   "execution_count": 4,
   "id": "381cc749-b37d-4b9b-a6f8-8ee0b9373260",
   "metadata": {},
   "outputs": [
    {
     "name": "stdout",
     "output_type": "stream",
     "text": [
      "Downloading https://www.cs.toronto.edu/~kriz/cifar-10-python.tar.gz to ./data/cifar-10-python.tar.gz\n"
     ]
    },
    {
     "name": "stderr",
     "output_type": "stream",
     "text": [
      "100.0%\n"
     ]
    },
    {
     "name": "stdout",
     "output_type": "stream",
     "text": [
      "Extracting ./data/cifar-10-python.tar.gz to ./data\n",
      "Files already downloaded and verified\n"
     ]
    }
   ],
   "source": [
    "# python image library of range [0, 1] \n",
    "# transform them to tensors of normalized range[-1, 1]\n",
    "\n",
    "transform = transforms.Compose( # composing several transforms together\n",
    "    [transforms.ToTensor(), # to tensor object\n",
    "     transforms.Normalize((0.5, 0.5, 0.5), (0.5, 0.5, 0.5))]) # mean = 0.5, std = 0.5\n",
    "\n",
    "# set batch_size\n",
    "batch_size = 4\n",
    "\n",
    "# set number of workers\n",
    "num_workers = 2\n",
    "\n",
    "# load train data\n",
    "trainset = torchvision.datasets.CIFAR10(root='./data', train=True,\n",
    "                                        download=True, transform=transform)\n",
    "trainloader = torch.utils.data.DataLoader(trainset, batch_size=batch_size,\n",
    "                                          shuffle=True, num_workers=num_workers)\n",
    "\n",
    "# load test data\n",
    "testset = torchvision.datasets.CIFAR10(root='./data', train=False,\n",
    "                                       download=True, transform=transform)\n",
    "testloader = torch.utils.data.DataLoader(testset, batch_size=batch_size,\n",
    "                                         shuffle=False, num_workers=num_workers)\n",
    "\n",
    "# put 10 classes into a set\n",
    "classes = ('plane', 'car', 'bird', 'cat',\n",
    "           'deer', 'dog', 'frog', 'horse', 'ship', 'truck')"
   ]
  },
  {
   "cell_type": "markdown",
   "id": "c81932d8-a503-4622-a68d-19ab4b9bbaaf",
   "metadata": {},
   "source": [
    "### Utils - `imshow()`\n",
    "\n",
    "The output should be something like this:\n",
    "![](https://miro.medium.com/max/640/1*cqcaofbeI0J0O47qB922WQ.webp)\n",
    "\n",
    "Output:\n",
    "`bird plane plane car`"
   ]
  },
  {
   "cell_type": "code",
   "execution_count": 5,
   "id": "ba85668e-aa85-4213-9fb0-f459e1dc3116",
   "metadata": {},
   "outputs": [
    {
     "data": {
      "image/png": "[encoded data removed]",
      "text/plain": [
       "<Figure size 640x480 with 1 Axes>"
      ]
     },
     "metadata": {},
     "output_type": "display_data"
    },
    {
     "name": "stdout",
     "output_type": "stream",
     "text": [
      "frog truck horse frog\n"
     ]
    }
   ],
   "source": [
    "def imshow(img):\n",
    "    ''' function to show image '''\n",
    "    img = img / 2 + 0.5 # unnormalize\n",
    "    npimg = img.numpy() # convert to numpy objects\n",
    "    plt.imshow(np.transpose(npimg, (1, 2, 0)))\n",
    "    plt.show()\n",
    "\n",
    "# get random training images with iter function\n",
    "dataiter = iter(trainloader)\n",
    "images, labels = dataiter.next()\n",
    "\n",
    "# call function on our images\n",
    "imshow(torchvision.utils.make_grid(images))\n",
    "\n",
    "# print the class of the image\n",
    "print(' '.join('%s' % classes[labels[j]] for j in range(batch_size)))"
   ]
  },
  {
   "cell_type": "markdown",
   "id": "90e68e4a-7fca-462d-bb19-dfced68e7c9d",
   "metadata": {},
   "source": [
    "## 2. Define the CNN\n",
    "\n",
    "![](https://miro.medium.com/max/720/1*c2ubkAfmplp3r7hTz-mk5A.webp)\n",
    "\n",
    "### Forward Algorithms\n",
    "`input -> conv2d -> relu -> maxpool2d -> conv2d -> relu -> maxpool2d -> view -> linear -> relu -> linear -> relu -> linear`"
   ]
  },
  {
   "cell_type": "code",
   "execution_count": 14,
   "id": "128c83f9-8d50-4473-b016-a562e55f56e0",
   "metadata": {},
   "outputs": [
    {
     "name": "stdout",
     "output_type": "stream",
     "text": [
      "Net(\n",
      "  (conv1): Conv2d(3, 6, kernel_size=(5, 5), stride=(1, 1))\n",
      "  (pool): MaxPool2d(kernel_size=2, stride=2, padding=0, dilation=1, ceil_mode=False)\n",
      "  (conv2): Conv2d(6, 16, kernel_size=(5, 5), stride=(1, 1))\n",
      "  (fc1): Linear(in_features=400, out_features=120, bias=True)\n",
      "  (fc2): Linear(in_features=120, out_features=84, bias=True)\n",
      "  (fc3): Linear(in_features=84, out_features=10, bias=True)\n",
      ")\n"
     ]
    }
   ],
   "source": [
    "class Net(nn.Module):\n",
    "    def __init__(self):\n",
    "        super(Net, self).__init__()\n",
    "        # 3 input image channel, 6 output channels, \n",
    "        \n",
    "        # 5x5 square convolution kernel\n",
    "        self.conv1 = nn.Conv2d(3, 6, 5)\n",
    "        \n",
    "        # Max pooling over a (2, 2) window\n",
    "        self.pool = nn.MaxPool2d(2, 2)\n",
    "        self.conv2 = nn.Conv2d(6, 16, 5) \n",
    "        self.fc1 = nn.Linear(16 * 5 * 5, 120)# 5x5 from image dimension\n",
    "        self.fc2 = nn.Linear(120, 84)\n",
    "        self.fc3 = nn.Linear(84, 10)\n",
    "\n",
    "    def forward(self, x):\n",
    "        x = self.pool(F.relu(self.conv1(x)))\n",
    "        x = self.pool(F.relu(self.conv2(x)))\n",
    "        x = x.view(-1, 16 * 5 * 5)\n",
    "        x = F.relu(self.fc1(x))\n",
    "        x = F.relu(self.fc2(x))\n",
    "        x = self.fc3(x)\n",
    "        return x\n",
    "\n",
    "net = Net()\n",
    "print(net)"
   ]
  },
  {
   "cell_type": "markdown",
   "id": "9ec47927-7f15-4c0b-84ae-906174fd6f6d",
   "metadata": {},
   "source": [
    "## 3. Define Loss Function and Optimizer\n",
    "\n",
    "![](https://miro.medium.com/max/720/1*fPGojfrYmalD-QJ67xSSYA.webp)"
   ]
  },
  {
   "cell_type": "code",
   "execution_count": 15,
   "id": "5479e2b6-de3f-4e6b-9712-bb5727285557",
   "metadata": {},
   "outputs": [],
   "source": [
    "criterion = nn.CrossEntropyLoss()\n",
    "optimizer = optim.SGD(net.parameters(), lr=0.001, momentum=0.9)"
   ]
  },
  {
   "cell_type": "markdown",
   "id": "b331cc53-5218-47c7-b8bc-d0c974ca6908",
   "metadata": {},
   "source": [
    "## 4. Train the Network"
   ]
  },
  {
   "cell_type": "code",
   "execution_count": 16,
   "id": "35e9712c-dcea-445e-8205-5b759867a565",
   "metadata": {},
   "outputs": [
    {
     "name": "stdout",
     "output_type": "stream",
     "text": [
      "[1,  2000] loss: 2.266\n",
      "[1,  4000] loss: 1.903\n",
      "[1,  6000] loss: 1.675\n",
      "[1,  8000] loss: 1.612\n",
      "[1, 10000] loss: 1.533\n",
      "[1, 12000] loss: 1.480\n",
      "[2,  2000] loss: 1.411\n",
      "[2,  4000] loss: 1.367\n",
      "[2,  6000] loss: 1.324\n",
      "[2,  8000] loss: 1.345\n",
      "[2, 10000] loss: 1.291\n",
      "[2, 12000] loss: 1.262\n",
      "Finished Training\n"
     ]
    }
   ],
   "source": [
    "for epoch in range(2):  # loop over the dataset multiple times\n",
    "\n",
    "    running_loss = 0.0\n",
    "    for i, data in enumerate(trainloader, 0):\n",
    "        # get the inputs; data is a list of [inputs, labels]\n",
    "        inputs, labels = data\n",
    "\n",
    "        # zero the parameter gradients\n",
    "        optimizer.zero_grad()\n",
    "\n",
    "        # forward + backward + optimize\n",
    "        outputs = net(inputs)\n",
    "        loss = criterion(outputs, labels)\n",
    "        loss.backward()\n",
    "        optimizer.step()\n",
    "\n",
    "        # print statistics\n",
    "        running_loss += loss.item()\n",
    "        if i % 2000 == 1999:    # print every 2000 mini-batches\n",
    "            print('[%d, %5d] loss: %.3f' %\n",
    "                  (epoch + 1, i + 1, running_loss / 2000))\n",
    "            running_loss = 0.0\n",
    "\n",
    "print('Finished Training')"
   ]
  },
  {
   "cell_type": "markdown",
   "id": "224a517d-0882-4882-9a54-58112bc840f3",
   "metadata": {},
   "source": [
    "## 5. Test the Network on Test Data"
   ]
  },
  {
   "cell_type": "code",
   "execution_count": 17,
   "id": "a5f8cfea-c014-4c07-8193-ed5aec6a275a",
   "metadata": {},
   "outputs": [
    {
     "data": {
      "image/png": "[encoded data removed]",
      "text/plain": [
       "<Figure size 640x480 with 1 Axes>"
      ]
     },
     "metadata": {},
     "output_type": "display_data"
    },
    {
     "name": "stdout",
     "output_type": "stream",
     "text": [
      "GroundTruth:  cat ship ship plane\n"
     ]
    }
   ],
   "source": [
    "dataiter = iter(testloader)\n",
    "images, labels = dataiter.next()\n",
    "\n",
    "# print images\n",
    "imshow(torchvision.utils.make_grid(images))\n",
    "print('GroundTruth: ', ' '.join('%s' % classes[labels[j]] for j in range(4)))"
   ]
  },
  {
   "cell_type": "code",
   "execution_count": 18,
   "id": "10adae99-06cc-48a4-8f12-3cc080792f07",
   "metadata": {},
   "outputs": [
    {
     "name": "stdout",
     "output_type": "stream",
     "text": [
      "Predicted:  cat ship ship plane\n"
     ]
    }
   ],
   "source": [
    "outputs = net(images)\n",
    "\n",
    "_, predicted = torch.max(outputs, 1)\n",
    "\n",
    "print('Predicted: ', ' '.join('%s' % classes[predicted[j]]\n",
    "                              for j in range(4)))"
   ]
  }
 ],
 "metadata": {
  "kernelspec": {
   "display_name": "Python 3 (ipykernel)",
   "language": "python",
   "name": "python3"
  },
  "language_info": {
   "codemirror_mode": {
    "name": "ipython",
    "version": 3
   },
   "file_extension": ".py",
   "mimetype": "text/x-python",
   "name": "python",
   "nbconvert_exporter": "python",
   "pygments_lexer": "ipython3",
   "version": "3.9.12"
  }
 },
 "nbformat": 4,
 "nbformat_minor": 5
}
